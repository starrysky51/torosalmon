{
 "cells": [
  {
   "cell_type": "code",
   "execution_count": 1,
   "metadata": {},
   "outputs": [
    {
     "name": "stdout",
     "output_type": "stream",
     "text": [
      "1から20までの数をあててください\n",
      "数を入力してください。\n",
      "5\n",
      "小さいです\n",
      "数を入力してください。\n",
      "8\n",
      "小さいです\n",
      "数を入力してください。\n",
      "9\n",
      "小さいです\n",
      "数を入力してください。\n",
      "10\n",
      "小さいです\n",
      "数を入力してください。\n",
      "15\n",
      "大きいです\n",
      "数を入力してください。\n",
      "13\n",
      "小さいです\n",
      "残念。正解は14でした\n"
     ]
    }
   ],
   "source": [
    "import random\n",
    "secret_number = random.randint(1, 20)\n",
    "print('1から20までの数をあててください')\n",
    "\n",
    "#6回引く\n",
    "for guesses_taken in range(1, 7):\n",
    "    print('数を入力してください。')\n",
    "    guess = int(input())\n",
    "\n",
    "    if guess < secret_number:\n",
    "        print('小さいです')\n",
    "    elif guess > secret_number:\n",
    "        print('大きいです')\n",
    "    else:\n",
    "        break\n",
    "\n",
    "if guess == secret_number:\n",
    "    print('当たり！' + str(guesses_taken) + '回で当たりました！')\n",
    "else:\n",
    "    print('残念。正解は' + str(secret_number) + 'でした')\n"
   ]
  },
  {
   "cell_type": "code",
   "execution_count": null,
   "metadata": {},
   "outputs": [],
   "source": []
  }
 ],
 "metadata": {
  "kernelspec": {
   "display_name": "Python 3",
   "language": "python",
   "name": "python3"
  },
  "language_info": {
   "codemirror_mode": {
    "name": "ipython",
    "version": 3
   },
   "file_extension": ".py",
   "mimetype": "text/x-python",
   "name": "python",
   "nbconvert_exporter": "python",
   "pygments_lexer": "ipython3",
   "version": "3.6.4"
  }
 },
 "nbformat": 4,
 "nbformat_minor": 2
}
